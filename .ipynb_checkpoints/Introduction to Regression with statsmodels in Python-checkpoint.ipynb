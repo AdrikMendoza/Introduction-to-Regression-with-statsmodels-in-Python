{
 "cells": [
  {
   "cell_type": "markdown",
   "id": "e5375235",
   "metadata": {},
   "source": [
    "# 1. Simple Linear Regression Modeling\n",
    "\n",
    "## A tale of two variables\n"
   ]
  },
  {
   "cell_type": "code",
   "execution_count": null,
   "id": "9fcee92b",
   "metadata": {},
   "outputs": [],
   "source": [
    "import pandas as pd\n",
    "churn = pd.read_csv('churn.csv')\n",
    "churn.head()"
   ]
  },
  {
   "cell_type": "code",
   "execution_count": null,
   "id": "8563fd7e",
   "metadata": {},
   "outputs": [],
   "source": [
    "churn.mean()"
   ]
  },
  {
   "cell_type": "code",
   "execution_count": null,
   "id": "7efe581c",
   "metadata": {
    "scrolled": true
   },
   "outputs": [],
   "source": [
    "churn['time_since_first_purchase'].corr(churn['time_since_last_purchase'])"
   ]
  },
  {
   "cell_type": "markdown",
   "id": "da8145d4",
   "metadata": {},
   "source": [
    "#### What is regression?\n",
    "\n",
    "> Statistical models to explore the relationship a response variable and some explanatory variables.\n",
    "\n",
    "> Given values of explanatory variables, you can predict the values of the response variable.\n",
    "\n",
    "#### Terms\n",
    "\n",
    "> _Reponse variable._ (Dependent variable)\n",
    "\n",
    "> _Explanatory variables._ (Independent variables)\n",
    "\n",
    "\n",
    "##### Linear Regression \n",
    "> The response variable is numeric.\n",
    "\n",
    "##### Logistic Regression \n",
    "> The response variable is logical.\n",
    "\n",
    "##### Simple linear / logistic regression.\n",
    "> There is only one explanatory variable.\n"
   ]
  },
  {
   "cell_type": "code",
   "execution_count": null,
   "id": "66b9d256",
   "metadata": {
    "scrolled": true
   },
   "outputs": [],
   "source": [
    "import matplotlib.pyplot as plt\n",
    "import seaborn as sns\n",
    "\n",
    "sns.scatterplot(x='time_since_first_purchase', y='time_since_last_purchase', data=churn)\n",
    "plt.show()"
   ]
  },
  {
   "cell_type": "markdown",
   "id": "4ca4df40",
   "metadata": {},
   "source": [
    "##### Adding a trend line"
   ]
  },
  {
   "cell_type": "code",
   "execution_count": null,
   "id": "dc9b3976",
   "metadata": {},
   "outputs": [],
   "source": [
    "sns.regplot(x='time_since_first_purchase', y='time_since_last_purchase', data=churn)\n",
    "plt.show()"
   ]
  },
  {
   "cell_type": "code",
   "execution_count": null,
   "id": "44a1a956",
   "metadata": {},
   "outputs": [],
   "source": [
    "sns.regplot(x='time_since_first_purchase', y='time_since_last_purchase', data=churn, ci=None)\n",
    "plt.show()"
   ]
  },
  {
   "cell_type": "markdown",
   "id": "702ec931",
   "metadata": {},
   "source": [
    "##### Python packages for regression\n",
    "\n",
    "> statsmodels: Optimized for insight.\n",
    "\n",
    "> scikit-learn: Optimized for prediction."
   ]
  },
  {
   "cell_type": "markdown",
   "id": "af12dabc",
   "metadata": {},
   "source": [
    "### Visualizing two numeric variables\n"
   ]
  },
  {
   "cell_type": "code",
   "execution_count": null,
   "id": "b37fecc1",
   "metadata": {},
   "outputs": [],
   "source": [
    "taiwan_real_estate = pd.read_csv('taiwan_real_estate2.csv')\n",
    "taiwan_real_estate.head()"
   ]
  },
  {
   "cell_type": "code",
   "execution_count": null,
   "id": "5b7e6b62",
   "metadata": {},
   "outputs": [],
   "source": [
    "# Draw the scatter plot\n",
    "sns.scatterplot(x=\"n_convenience\",\n",
    "                y=\"price_twd_msq\",\n",
    "                data=taiwan_real_estate)"
   ]
  },
  {
   "cell_type": "code",
   "execution_count": null,
   "id": "fb7cbe5a",
   "metadata": {
    "scrolled": true
   },
   "outputs": [],
   "source": [
    "# Draw a trend line on the scatter plot of price_twd_msq vs. n_convenience\n",
    "sns.regplot(x=\"n_convenience\",\n",
    "         y=\"price_twd_msq\",\n",
    "         data=taiwan_real_estate,\n",
    "         ci=None,\n",
    "         scatter_kws={'alpha': 0.5})\n",
    "\n",
    "# Show the plot\n",
    "plt.show()"
   ]
  },
  {
   "cell_type": "markdown",
   "id": "449d7765",
   "metadata": {},
   "source": [
    "## Fitting a linear regression\n",
    "#### The Definition of a Straight Line\n",
    "##### Intercept: The _y_ value at the point when _x_ is zero.\n",
    "##### Slope: The amount the _y_ value increases if you increase _x_ by one.\n",
    "##### Equation: y = intercept  + slope * _x_\n",
    "\n",
    "### Estimate the intercept\n"
   ]
  },
  {
   "cell_type": "code",
   "execution_count": null,
   "id": "2d6497a9",
   "metadata": {},
   "outputs": [],
   "source": [
    "fig, ax = plt.subplots(figsize=(15, 10))\n",
    "# Draw a trend line on the scatter plot of price_twd_msq vs. n_convenience\n",
    "sns.regplot(x=\"n_convenience\",\n",
    "         y=\"price_twd_msq\",\n",
    "         data=taiwan_real_estate,\n",
    "         ci=None,\n",
    "         scatter_kws={'alpha': 0.5})\n",
    "\n",
    "# Show the plot\n",
    "plt.show()"
   ]
  },
  {
   "cell_type": "markdown",
   "id": "2027d8fb",
   "metadata": {},
   "source": [
    "> At this point, the trend line crosses the y-axis or x = 0. With calculations I estimate it is about 7.9.\n",
    "\n",
    "### Estimate the slope\n"
   ]
  },
  {
   "cell_type": "code",
   "execution_count": null,
   "id": "16e7f062",
   "metadata": {},
   "outputs": [],
   "source": [
    "fig, ax = plt.subplots(figsize=(15, 10))\n",
    "# Draw a trend line on the scatter plot of price_twd_msq vs. n_convenience\n",
    "sns.regplot(x=\"n_convenience\",\n",
    "         y=\"price_twd_msq\",\n",
    "         data=taiwan_real_estate,\n",
    "         ci=None,\n",
    "         scatter_kws={'alpha': 0.5})\n",
    "\n",
    "# Show the plot\n",
    "plt.show()"
   ]
  },
  {
   "cell_type": "markdown",
   "id": "c01429c0",
   "metadata": {},
   "source": [
    "> The slope is the rate of change in the y direction divided by the rate of change in the x direction. I estimate it is about 0.7."
   ]
  },
  {
   "cell_type": "markdown",
   "id": "407ead6a",
   "metadata": {},
   "source": [
    "### Linear regression with ols()\n"
   ]
  },
  {
   "cell_type": "code",
   "execution_count": null,
   "id": "925ed021",
   "metadata": {},
   "outputs": [],
   "source": [
    "# Import the ols function\n",
    "from statsmodels.formula.api import ols\n",
    "\n",
    "# Create the model object\n",
    "mdl_price_vs_conv = ols(\"price_twd_msq ~ n_convenience\", data=taiwan_real_estate)\n",
    "\n",
    "# Fit the model\n",
    "mdl_price_vs_conv = mdl_price_vs_conv.fit()\n",
    "\n",
    "# Print the parameters of the fitted model\n",
    "mdl_price_vs_conv.params"
   ]
  },
  {
   "cell_type": "markdown",
   "id": "6db8b61f",
   "metadata": {},
   "source": [
    "> INTERCEPT: The model had an Intercept coefficient of 8.2242. This means, on average, a house with zero convenience stores nearby had a price of 8.2242 TWD per square meter.\n",
    "\n",
    "> SLOPE: The model had an n_convenience coefficient of 0.7981. If you increase the number of nearby convenience stores by one, then the expected increase in house price is 0.7981 TWD per square meter.\n",
    "\n",
    "> In general, the intercept is positive, so a house with no convenience stores nearby still has a positive price. The coefficient for convenience stores is also positive, so as the number of nearby convenience stores increases, so does the price of the house."
   ]
  },
  {
   "cell_type": "markdown",
   "id": "bf6d4408",
   "metadata": {},
   "source": [
    "### Categorical explanatory variables\n",
    "\n",
    "\n"
   ]
  },
  {
   "cell_type": "code",
   "execution_count": null,
   "id": "cd08a867",
   "metadata": {},
   "outputs": [],
   "source": [
    "fish = pd.read_csv('fish.csv')\n",
    "fish.head()"
   ]
  },
  {
   "cell_type": "code",
   "execution_count": null,
   "id": "4cdec1a6",
   "metadata": {},
   "outputs": [],
   "source": [
    "sns.displot(data=fish, x='mass_g', col='species', col_wrap=2, bins=9)\n",
    "plt.show()"
   ]
  },
  {
   "cell_type": "code",
   "execution_count": null,
   "id": "286bfb5d",
   "metadata": {},
   "outputs": [],
   "source": [
    "summary_stats = fish.groupby('species')['mass_g'].mean()\n",
    "summary_stats"
   ]
  },
  {
   "cell_type": "code",
   "execution_count": null,
   "id": "3b7cbba1",
   "metadata": {},
   "outputs": [],
   "source": [
    "mdl_mass_vs_species = ols('mass_g ~ species', data=fish).fit()\n",
    "mdl_mass_vs_species.params"
   ]
  },
  {
   "cell_type": "markdown",
   "id": "64611bd9",
   "metadata": {},
   "source": [
    "> The coeffitients cannot be negative!\n",
    "\n",
    "> Note: For categorical variables add \"+ 0\" to the model."
   ]
  },
  {
   "cell_type": "code",
   "execution_count": null,
   "id": "93955b06",
   "metadata": {
    "scrolled": true
   },
   "outputs": [],
   "source": [
    "mdl_mass_vs_species = ols('mass_g ~ species + 0', data=fish).fit()\n",
    "mdl_mass_vs_species.params"
   ]
  },
  {
   "cell_type": "markdown",
   "id": "7d88190a",
   "metadata": {},
   "source": [
    "> When you only have a single categorical explanatory variable, the linear regression coefficients are simply the means of each category.\n",
    "\n",
    "### Visualizing numeric vs. categorical\n"
   ]
  },
  {
   "cell_type": "code",
   "execution_count": null,
   "id": "ee03be8b",
   "metadata": {},
   "outputs": [],
   "source": [
    "# Histograms of price_twd_msq with 10 bins, split by the age of each house\n",
    "sns.displot(data=taiwan_real_estate,\n",
    "         x=\"price_twd_msq\",\n",
    "         col=\"house_age_years\",\n",
    "         bins=10)\n",
    "\n",
    "# Show the plot\n",
    "plt.show()"
   ]
  },
  {
   "cell_type": "markdown",
   "id": "b8dc82d1",
   "metadata": {},
   "source": [
    "### Calculating means by category\n"
   ]
  },
  {
   "cell_type": "code",
   "execution_count": null,
   "id": "69ecddfc",
   "metadata": {},
   "outputs": [],
   "source": [
    "# Calculate the mean of price_twd_msq, grouped by house age\n",
    "mean_price_by_age = taiwan_real_estate.groupby(\"house_age_years\")[\"price_twd_msq\"].mean()\n",
    "\n",
    "# Print the result\n",
    "mean_price_by_age"
   ]
  },
  {
   "cell_type": "markdown",
   "id": "05ad0678",
   "metadata": {},
   "source": [
    "### Linear regression with a categorical explanatory variable\n"
   ]
  },
  {
   "cell_type": "code",
   "execution_count": null,
   "id": "b54842c2",
   "metadata": {},
   "outputs": [],
   "source": [
    "# Create the model, fit it\n",
    "mdl_price_vs_age = ols(\"price_twd_msq ~ house_age_years\", data=taiwan_real_estate).fit()\n",
    "\n",
    "# Print the parameters of the fitted model\n",
    "mdl_price_vs_age.params"
   ]
  },
  {
   "cell_type": "code",
   "execution_count": null,
   "id": "1f48f5cd",
   "metadata": {},
   "outputs": [],
   "source": [
    "# Update the model formula to remove the intercept\n",
    "mdl_price_vs_age0 = ols(\"price_twd_msq ~ house_age_years + 0\", data=taiwan_real_estate).fit()\n",
    "\n",
    "# Print the parameters of the fitted model\n",
    "mdl_price_vs_age0.params"
   ]
  },
  {
   "cell_type": "markdown",
   "id": "68290bff",
   "metadata": {},
   "source": [
    "> The coefficients of the model are just the means of each category you calculated previously.\n",
    "\n",
    "# 2. Predictions and model objects\n",
    "## Making predictions\n"
   ]
  },
  {
   "cell_type": "code",
   "execution_count": null,
   "id": "00bb8438",
   "metadata": {},
   "outputs": [],
   "source": [
    "bream = fish[fish['species'] == 'Bream']\n",
    "bream.head()"
   ]
  },
  {
   "cell_type": "code",
   "execution_count": null,
   "id": "264a6409",
   "metadata": {},
   "outputs": [],
   "source": [
    "sns.regplot(x='length_cm', y='mass_g', data=bream, ci=None)\n",
    "plt.show()"
   ]
  },
  {
   "cell_type": "markdown",
   "id": "e9bacb0e",
   "metadata": {},
   "source": [
    "#### Running the model"
   ]
  },
  {
   "cell_type": "code",
   "execution_count": null,
   "id": "b3271394",
   "metadata": {},
   "outputs": [],
   "source": [
    "mdl_mass_vs_length = ols(\"mass_g ~ length_cm\", data=bream).fit()\n",
    "mdl_mass_vs_length.params"
   ]
  },
  {
   "cell_type": "code",
   "execution_count": null,
   "id": "dc5d457f",
   "metadata": {
    "scrolled": true
   },
   "outputs": [],
   "source": [
    "import numpy as np\n",
    "explanatory_data = pd.DataFrame({\"length_cm\": np.arange(20,41)})\n",
    "explanatory_data"
   ]
  },
  {
   "cell_type": "markdown",
   "id": "7b0e1812",
   "metadata": {},
   "source": [
    "#### Call .predict()"
   ]
  },
  {
   "cell_type": "code",
   "execution_count": null,
   "id": "f7b4ee99",
   "metadata": {},
   "outputs": [],
   "source": [
    "mdl_mass_vs_length.predict(explanatory_data)"
   ]
  },
  {
   "cell_type": "code",
   "execution_count": null,
   "id": "a96e858c",
   "metadata": {},
   "outputs": [],
   "source": [
    "prediction_data = explanatory_data.assign(mass_g_predicted=mdl_mass_vs_length.predict(explanatory_data))\n",
    "prediction_data"
   ]
  },
  {
   "cell_type": "markdown",
   "id": "36ebc70c",
   "metadata": {},
   "source": [
    "### Showing predictions"
   ]
  },
  {
   "cell_type": "code",
   "execution_count": null,
   "id": "ded6594c",
   "metadata": {},
   "outputs": [],
   "source": [
    "fig = plt.figure(figsize=(12, 8))\n",
    "sns.regplot(x='length_cm', y='mass_g', data=bream, ci=None)\n",
    "\n",
    "sns.scatterplot(x=\"length_cm\", y='mass_g_predicted', data=prediction_data, color='red', marker='s')\n",
    "plt.show()"
   ]
  },
  {
   "cell_type": "markdown",
   "id": "b9ef6a4b",
   "metadata": {},
   "source": [
    "### Extrapolating\n",
    "\n",
    "> EXTRAPOLATING means making predictions outside the range of observed data."
   ]
  },
  {
   "cell_type": "code",
   "execution_count": null,
   "id": "48a54ef9",
   "metadata": {},
   "outputs": [],
   "source": [
    "little_bream = pd.DataFrame({\"length_cm\": [10]})\n",
    "pred_little_bream = little_bream.assign(mass_g_pred=mdl_mass_vs_length.predict(little_bream))\n",
    "pred_little_bream"
   ]
  },
  {
   "cell_type": "code",
   "execution_count": null,
   "id": "6a9ceb16",
   "metadata": {},
   "outputs": [],
   "source": [
    "fig = plt.figure(figsize=(12, 8))\n",
    "sns.regplot(x='length_cm', y='mass_g', data=bream, ci=None)\n",
    "\n",
    "sns.scatterplot(x=\"length_cm\", y='mass_g_pred', data=pred_little_bream, color='red', marker='s')\n",
    "plt.show()"
   ]
  },
  {
   "cell_type": "markdown",
   "id": "2221388e",
   "metadata": {},
   "source": [
    "> The mass predicted it is not physically possible. The model perfoms poorly in this case.\n",
    "\n",
    "> Note: Extrapolation is sometimes appropiate, but it can lead to misleading or ridiculous results."
   ]
  },
  {
   "cell_type": "markdown",
   "id": "27bc8cfa",
   "metadata": {},
   "source": [
    "### Predicting house prices\n"
   ]
  },
  {
   "cell_type": "code",
   "execution_count": null,
   "id": "331e2364",
   "metadata": {},
   "outputs": [],
   "source": [
    "# Create the explanatory_data \n",
    "explanatory_data = pd.DataFrame({'n_convenience': np.arange(11)})\n",
    "explanatory_data"
   ]
  },
  {
   "cell_type": "code",
   "execution_count": null,
   "id": "dc8c2902",
   "metadata": {},
   "outputs": [],
   "source": [
    "# Use mdl_price_vs_conv to predict with explanatory_data, call it price_twd_msq\n",
    "price_twd_msq = mdl_price_vs_conv.predict(explanatory_data)\n",
    "price_twd_msq"
   ]
  },
  {
   "cell_type": "code",
   "execution_count": null,
   "id": "0d8eeacd",
   "metadata": {},
   "outputs": [],
   "source": [
    "# Create prediction_data\n",
    "prediction_data = explanatory_data.assign(price_twd_msq = price_twd_msq)\n",
    "prediction_data"
   ]
  },
  {
   "cell_type": "markdown",
   "id": "3cda8664",
   "metadata": {},
   "source": [
    "### Visualizing predictions\n"
   ]
  },
  {
   "cell_type": "code",
   "execution_count": null,
   "id": "b9443906",
   "metadata": {},
   "outputs": [],
   "source": [
    "# Create a new figure, fig\n",
    "fig = plt.figure(figsize=(15, 12))\n",
    "\n",
    "sns.regplot(x=\"n_convenience\",\n",
    "            y=\"price_twd_msq\",\n",
    "            data=taiwan_real_estate,\n",
    "            ci=None)\n",
    "# Add a scatter plot layer to the regplot\n",
    "sns.scatterplot(x=\"n_convenience\",\n",
    "                y=\"price_twd_msq\",\n",
    "                data=prediction_data,\n",
    "                color = \"red\", marker='s')\n",
    "\n",
    "# Show the layered plot\n",
    "plt.show()"
   ]
  },
  {
   "cell_type": "markdown",
   "id": "731d4cc7",
   "metadata": {},
   "source": [
    "### The limits of prediction\n"
   ]
  },
  {
   "cell_type": "code",
   "execution_count": null,
   "id": "661e9469",
   "metadata": {},
   "outputs": [],
   "source": [
    "# Define a DataFrame impossible\n",
    "impossible = pd.DataFrame({'n_convenience':[-1, 2.5]})\n",
    "impossible"
   ]
  },
  {
   "cell_type": "code",
   "execution_count": null,
   "id": "45116963",
   "metadata": {
    "scrolled": true
   },
   "outputs": [],
   "source": [
    "# Create prediction_data\n",
    "impossible_pred = impossible.assign(price_twd_msq = mdl_price_vs_conv.predict(impossible))\n",
    "impossible_pred"
   ]
  },
  {
   "cell_type": "code",
   "execution_count": null,
   "id": "4480867f",
   "metadata": {},
   "outputs": [],
   "source": [
    "# Create a new figure, fig\n",
    "fig = plt.figure(figsize=(15, 12))\n",
    "\n",
    "sns.regplot(x=\"n_convenience\",\n",
    "            y=\"price_twd_msq\",\n",
    "            data=taiwan_real_estate,\n",
    "            ci=None)\n",
    "# Add a scatter plot layer to the regplot\n",
    "sns.scatterplot(x=\"n_convenience\",\n",
    "                y=\"price_twd_msq\",\n",
    "                data=impossible_pred,\n",
    "                color = \"red\", marker='s')\n",
    "\n",
    "# Show the layered plot\n",
    "plt.show()"
   ]
  },
  {
   "cell_type": "markdown",
   "id": "998950f1",
   "metadata": {},
   "source": [
    "> The model successfully gives a prediction about cases that are impossible in real life.\n",
    "\n",
    "> Linear models don't know what is possible or not in real life. That means that they can give you predictions that don't make any sense when applied to your data. You need to understand what your data means in order to determine whether a prediction is nonsense or not."
   ]
  },
  {
   "cell_type": "markdown",
   "id": "596dcd2d",
   "metadata": {},
   "source": [
    "## Working with model objects\n"
   ]
  },
  {
   "cell_type": "markdown",
   "id": "1a377a29",
   "metadata": {},
   "source": [
    "#### Parameters"
   ]
  },
  {
   "cell_type": "code",
   "execution_count": null,
   "id": "2c136002",
   "metadata": {
    "scrolled": true
   },
   "outputs": [],
   "source": [
    "mdl_mass_vs_length.params"
   ]
  },
  {
   "cell_type": "markdown",
   "id": "256b8ca3",
   "metadata": {},
   "source": [
    "#### Fitted Values: Prediction on the original dataset"
   ]
  },
  {
   "cell_type": "code",
   "execution_count": null,
   "id": "90e8cd8d",
   "metadata": {
    "scrolled": true
   },
   "outputs": [],
   "source": [
    "mdl_mass_vs_length.fittedvalues"
   ]
  },
  {
   "cell_type": "markdown",
   "id": "c2b3fa26",
   "metadata": {},
   "source": [
    "#### Residuals: Actual response values minus predicted response values. Measure of inaccuracy in the model fit."
   ]
  },
  {
   "cell_type": "code",
   "execution_count": null,
   "id": "425670b8",
   "metadata": {},
   "outputs": [],
   "source": [
    "mdl_mass_vs_length.resid"
   ]
  },
  {
   "cell_type": "code",
   "execution_count": null,
   "id": "39004b6d",
   "metadata": {},
   "outputs": [],
   "source": [
    "bream['mass_g'] - mdl_mass_vs_length.fittedvalues"
   ]
  },
  {
   "cell_type": "code",
   "execution_count": null,
   "id": "ac8f8916",
   "metadata": {},
   "outputs": [],
   "source": [
    "mdl_mass_vs_length.summary()"
   ]
  },
  {
   "cell_type": "markdown",
   "id": "12f9f2fa",
   "metadata": {},
   "source": [
    "### Extracting model elements\n"
   ]
  },
  {
   "cell_type": "code",
   "execution_count": null,
   "id": "fe39b213",
   "metadata": {},
   "outputs": [],
   "source": [
    "# Print the model parameters of mdl_price_vs_conv\n",
    "mdl_price_vs_conv.params"
   ]
  },
  {
   "cell_type": "code",
   "execution_count": null,
   "id": "d368230b",
   "metadata": {},
   "outputs": [],
   "source": [
    "# Print the fitted values of mdl_price_vs_conv\n",
    "mdl_price_vs_conv.fittedvalues"
   ]
  },
  {
   "cell_type": "code",
   "execution_count": null,
   "id": "476fcd8f",
   "metadata": {},
   "outputs": [],
   "source": [
    "# Print the residuals of mdl_price_vs_conv\n",
    "mdl_price_vs_conv.resid"
   ]
  },
  {
   "cell_type": "code",
   "execution_count": null,
   "id": "3493d772",
   "metadata": {},
   "outputs": [],
   "source": [
    "# Print a summary of mdl_price_vs_conv\n",
    "print(mdl_price_vs_conv.summary())"
   ]
  },
  {
   "cell_type": "markdown",
   "id": "88e706a8",
   "metadata": {},
   "source": [
    "### Manually predicting house prices\n"
   ]
  },
  {
   "cell_type": "code",
   "execution_count": null,
   "id": "2815e493",
   "metadata": {},
   "outputs": [],
   "source": [
    "# Get the coefficients of mdl_price_vs_conv\n",
    "coeffs = mdl_price_vs_conv.params\n",
    "\n",
    "# Get the intercept\n",
    "intercept = coeffs[0]\n",
    "\n",
    "# Get the slope\n",
    "slope = coeffs[1]\n",
    "\n",
    "# Manually calculate the predictions\n",
    "price_twd_msq = intercept + (slope * explanatory_data)\n",
    "price_twd_msq"
   ]
  },
  {
   "cell_type": "code",
   "execution_count": null,
   "id": "2607af9b",
   "metadata": {},
   "outputs": [],
   "source": [
    "# Compare to the results from .predict()\n",
    "price_twd_msq.assign(predictions_auto=mdl_price_vs_conv.predict(explanatory_data))"
   ]
  },
  {
   "cell_type": "markdown",
   "id": "27bc24df",
   "metadata": {},
   "source": [
    "### Regression to the mean\n",
    "\n",
    "The concept = fitted value + residuals\n",
    "\n",
    "The stuff explained + The stuff couldn't explained\n",
    "\n",
    "> Residuals exist due to problems in the model and fundamental randomness.\n",
    "\n",
    "> Extreme cases are often due to randomness.\n",
    "\n",
    "> Regression to the mean: Means extreme cases don't persist over time."
   ]
  },
  {
   "cell_type": "markdown",
   "id": "c9469fc5",
   "metadata": {},
   "source": [
    "### Plotting consecutive portfolio returns\n",
    "\n"
   ]
  },
  {
   "cell_type": "code",
   "execution_count": null,
   "id": "8641ae14",
   "metadata": {},
   "outputs": [],
   "source": [
    "sp500_yearly_returns = pd.read_csv('sp500_yearly_returns.csv')\n",
    "sp500_yearly_returns.head()"
   ]
  },
  {
   "cell_type": "code",
   "execution_count": null,
   "id": "c90a8ec6",
   "metadata": {},
   "outputs": [],
   "source": [
    "# Create a new figure, fig\n",
    "fig = plt.figure(figsize=(15, 12))\n",
    "\n",
    "# Plot the first layer: y = x\n",
    "plt.axline(xy1=(0,0), slope=1, linewidth=2, color=\"green\")\n",
    "\n",
    "# Add scatter plot with linear regression trend line\n",
    "sns.regplot(x='return_2018', y='return_2019', data=sp500_yearly_returns, ci=None)\n",
    "\n",
    "# Set the axes so that the distances along the x and y axes look the same\n",
    "plt.axis('equal')\n",
    "\n",
    "# Show the plot\n",
    "plt.show()"
   ]
  },
  {
   "cell_type": "markdown",
   "id": "9ea19658",
   "metadata": {},
   "source": [
    "> The regression trend line looks very different to the y equals x line. As the financial advisors say, \"Past performance is no guarantee of future results.\"\n",
    "\n",
    "### Modeling consecutive returns\n"
   ]
  },
  {
   "cell_type": "code",
   "execution_count": null,
   "id": "a00e03f1",
   "metadata": {},
   "outputs": [],
   "source": [
    "# Run a linear regression on return_2019 vs. return_2018 using sp500_yearly_returns\n",
    "mdl_returns = ols('return_2019 ~ return_2018', sp500_yearly_returns).fit()\n",
    "\n",
    "# Print the parameters\n",
    "mdl_returns.params"
   ]
  },
  {
   "cell_type": "code",
   "execution_count": null,
   "id": "34ca91d9",
   "metadata": {
    "scrolled": true
   },
   "outputs": [],
   "source": [
    "# Create a DataFrame with return_2018 at -1, 0, and 1 \n",
    "explanatory_data = pd.DataFrame({'return_2018': [-1,0,1]})\n",
    "\n",
    "# Use mdl_returns to predict with explanatory_data\n",
    "mdl_returns.predict(explanatory_data)"
   ]
  },
  {
   "cell_type": "markdown",
   "id": "e26d79ba",
   "metadata": {},
   "source": [
    "> Investments that gained a lot in value in 2018 on average gained only a small amount in 2019. Similarly, investments that lost a lot of value in 2018 on average also gained a small amount in 2019."
   ]
  },
  {
   "cell_type": "markdown",
   "id": "3a56782e",
   "metadata": {},
   "source": [
    "## Transforming variables\n"
   ]
  },
  {
   "cell_type": "code",
   "execution_count": null,
   "id": "65ab6bcd",
   "metadata": {},
   "outputs": [],
   "source": [
    "perch = fish[fish['species']=='Perch']\n",
    "perch.head()"
   ]
  },
  {
   "cell_type": "code",
   "execution_count": null,
   "id": "35127032",
   "metadata": {},
   "outputs": [],
   "source": [
    "sns.regplot(x='length_cm', y='mass_g', data=perch, ci=None)\n",
    "plt.show()"
   ]
  },
  {
   "cell_type": "markdown",
   "id": "bdd5a30b",
   "metadata": {},
   "source": [
    "> To understand why the bream had a strong linear relationship between mass and length, but the perch didn't, you need to understand the data.\n",
    "\n",
    "> As bream get bigger, they mostly get longer not wider. By contrast, the perch spiece has a round body. So that, as it grows, it gets fatter and taller as well as longer.\n",
    "\n",
    "\n",
    "> Since the perches are growing in three directions at once, maybe the length cubed will give a better fit."
   ]
  },
  {
   "cell_type": "code",
   "execution_count": null,
   "id": "df488e02",
   "metadata": {},
   "outputs": [],
   "source": [
    "perch = perch.copy()\n",
    "perch['length_cm_cubed'] = perch['length_cm'] ** 3\n",
    "\n",
    "sns.regplot(x='length_cm_cubed', y='mass_g', data=perch, ci=None)\n",
    "plt.show()"
   ]
  },
  {
   "cell_type": "code",
   "execution_count": null,
   "id": "f7142c7c",
   "metadata": {},
   "outputs": [],
   "source": [
    "mdl_perch = ols('mass_g ~ length_cm_cubed', data=perch).fit()\n",
    "mdl_perch.params"
   ]
  },
  {
   "cell_type": "code",
   "execution_count": null,
   "id": "33b40577",
   "metadata": {},
   "outputs": [],
   "source": [
    "explanatory_data = pd.DataFrame({'length_cm_cubed': np.arange(10,41,5)**3, 'length_cm': np.arange(10, 41, 5)})\n",
    "explanatory_data"
   ]
  },
  {
   "cell_type": "code",
   "execution_count": null,
   "id": "f7c759aa",
   "metadata": {},
   "outputs": [],
   "source": [
    "prediction_data = explanatory_data.assign(mass_g=mdl_perch.predict(explanatory_data))\n",
    "prediction_data"
   ]
  },
  {
   "cell_type": "code",
   "execution_count": null,
   "id": "a97f89a9",
   "metadata": {},
   "outputs": [],
   "source": [
    "fig = plt.figure(figsize=(15, 10))\n",
    "\n",
    "sns.regplot(x='length_cm_cubed', y='mass_g', data=perch, ci=None)\n",
    "\n",
    "sns.scatterplot(x='length_cm_cubed', y='mass_g', data=prediction_data, color='red', marker='s')\n",
    "plt.show()"
   ]
  },
  {
   "cell_type": "code",
   "execution_count": null,
   "id": "6c75e99d",
   "metadata": {
    "scrolled": true
   },
   "outputs": [],
   "source": [
    "fig = plt.figure(figsize=(15, 10))\n",
    "\n",
    "sns.regplot(x='length_cm', y='mass_g', data=perch, ci=None)\n",
    "\n",
    "sns.scatterplot(x='length_cm', y='mass_g', data=prediction_data, color='red', marker='s')\n",
    "plt.show()"
   ]
  },
  {
   "cell_type": "markdown",
   "id": "b06065e5",
   "metadata": {},
   "source": [
    "#### Facebook Advertising Dataset"
   ]
  },
  {
   "cell_type": "code",
   "execution_count": null,
   "id": "d6aac350",
   "metadata": {},
   "outputs": [],
   "source": [
    "ad_conversion = pd.read_csv('ad_conversion.csv')\n",
    "ad_conversion.head()"
   ]
  },
  {
   "cell_type": "code",
   "execution_count": null,
   "id": "ba6b31b3",
   "metadata": {},
   "outputs": [],
   "source": [
    "plt.figure(figsize=(15, 10))\n",
    "sns.regplot(x='spent_usd', y='n_impressions', data=ad_conversion, ci=None)"
   ]
  },
  {
   "cell_type": "code",
   "execution_count": null,
   "id": "5f996872",
   "metadata": {},
   "outputs": [],
   "source": [
    "ad_conversion['sqrt_spent_usd'] = np.sqrt(ad_conversion['spent_usd'])\n",
    "ad_conversion['sqrt_n_impressions'] = np.sqrt(ad_conversion['n_impressions'])\n",
    "plt.figure(figsize=(15, 10))\n",
    "sns.regplot(x='sqrt_spent_usd', y='sqrt_n_impressions', data=ad_conversion, ci=None)"
   ]
  },
  {
   "cell_type": "markdown",
   "id": "daad21c0",
   "metadata": {},
   "source": [
    "> By transforming both variables with square roots, the data are more spread out throughout the plot, and the points follow the line fairly closely.\n",
    "\n",
    "> Square roots are a common transformation when your data has a right-skewed distribution."
   ]
  },
  {
   "cell_type": "code",
   "execution_count": null,
   "id": "e74f1360",
   "metadata": {},
   "outputs": [],
   "source": [
    "mdl_ad = ols('sqrt_n_impressions ~ sqrt_spent_usd', data=ad_conversion).fit()\n",
    "mdl_ad.params"
   ]
  },
  {
   "cell_type": "code",
   "execution_count": null,
   "id": "f757215d",
   "metadata": {},
   "outputs": [],
   "source": [
    "explanatory_data = pd.DataFrame({\"sqrt_spent_usd\": np.sqrt(np.arange(0,601,100)), \"spent_usd\": np.arange(0,601,100)})\n",
    "explanatory_data"
   ]
  },
  {
   "cell_type": "code",
   "execution_count": null,
   "id": "3db770da",
   "metadata": {
    "scrolled": true
   },
   "outputs": [],
   "source": [
    "prediction_data = explanatory_data.assign(sqrt_n_impressions=mdl_ad.predict(explanatory_data), n_impressions=mdl_ad.predict(explanatory_data) ** 2)\n",
    "prediction_data"
   ]
  },
  {
   "cell_type": "markdown",
   "id": "ea3a96c5",
   "metadata": {},
   "source": [
    "### Transforming the explanatory variable\n"
   ]
  },
  {
   "cell_type": "code",
   "execution_count": null,
   "id": "9c11c4df",
   "metadata": {},
   "outputs": [],
   "source": [
    "taiwan_real_estate.head()"
   ]
  },
  {
   "cell_type": "code",
   "execution_count": null,
   "id": "fb45e940",
   "metadata": {},
   "outputs": [],
   "source": [
    "plt.figure(figsize=(15, 10))\n",
    "\n",
    "# Plot using the transformed variable\n",
    "sns.regplot(x='dist_to_mrt_m', y='price_twd_msq', data=taiwan_real_estate)\n",
    "plt.show()"
   ]
  },
  {
   "cell_type": "code",
   "execution_count": null,
   "id": "2faee0be",
   "metadata": {},
   "outputs": [],
   "source": [
    "# Create sqrt_dist_to_mrt_m\n",
    "taiwan_real_estate[\"sqrt_dist_to_mrt_m\"] = np.sqrt(taiwan_real_estate[\"dist_to_mrt_m\"])\n",
    "\n",
    "plt.figure(figsize=(15, 10))\n",
    "\n",
    "# Plot using the transformed variable\n",
    "sns.regplot(x='sqrt_dist_to_mrt_m', y='price_twd_msq', data=taiwan_real_estate)\n",
    "plt.show()"
   ]
  },
  {
   "cell_type": "code",
   "execution_count": null,
   "id": "0e32c5aa",
   "metadata": {},
   "outputs": [],
   "source": [
    "# Run a linear regression of price_twd_msq vs. square root of dist_to_mrt_m using taiwan_real_estate\n",
    "mdl_price_vs_dist = ols('price_twd_msq ~ sqrt_dist_to_mrt_m', data = taiwan_real_estate).fit()\n",
    "\n",
    "# Print the parameters\n",
    "mdl_price_vs_dist.params"
   ]
  },
  {
   "cell_type": "code",
   "execution_count": null,
   "id": "c92fd832",
   "metadata": {},
   "outputs": [],
   "source": [
    "explanatory_data = pd.DataFrame({\"sqrt_dist_to_mrt_m\": np.sqrt(np.arange(0, 81, 10) ** 2),\n",
    "                                \"dist_to_mrt_m\": np.arange(0, 81, 10) ** 2})\n",
    "explanatory_data"
   ]
  },
  {
   "cell_type": "code",
   "execution_count": null,
   "id": "9ff62a1d",
   "metadata": {},
   "outputs": [],
   "source": [
    "# Create prediction_data by adding a column of predictions to explantory_data\n",
    "prediction_data = explanatory_data.assign(\n",
    "    price_twd_msq = mdl_price_vs_dist.predict(explanatory_data)\n",
    ")\n",
    "\n",
    "# Print the result\n",
    "prediction_data"
   ]
  },
  {
   "cell_type": "code",
   "execution_count": null,
   "id": "fd2fb3b4",
   "metadata": {
    "scrolled": true
   },
   "outputs": [],
   "source": [
    "fig = plt.figure(figsize=(15,10))\n",
    "sns.regplot(x=\"sqrt_dist_to_mrt_m\", y=\"price_twd_msq\", data=taiwan_real_estate, ci=None)\n",
    "\n",
    "# Add a layer of your prediction points\n",
    "sns.scatterplot(x=\"sqrt_dist_to_mrt_m\", y=\"price_twd_msq\", data=prediction_data, color='red')\n",
    "plt.show()"
   ]
  },
  {
   "cell_type": "code",
   "execution_count": null,
   "id": "2d8b552c",
   "metadata": {},
   "outputs": [],
   "source": [
    "fig = plt.figure(figsize=(15,10))\n",
    "sns.regplot(x=\"dist_to_mrt_m\", y=\"price_twd_msq\", data=taiwan_real_estate, ci=None)\n",
    "\n",
    "# Add a layer of your prediction points\n",
    "sns.scatterplot(x=\"dist_to_mrt_m\", y=\"price_twd_msq\", data=prediction_data, color='red')\n",
    "plt.show()"
   ]
  },
  {
   "cell_type": "markdown",
   "id": "785b9cb1",
   "metadata": {},
   "source": [
    "> By transforming the explanatory variable, the relationship with the response variable became linear, and so a linear regression became an appropriate model."
   ]
  },
  {
   "cell_type": "markdown",
   "id": "80230be4",
   "metadata": {},
   "source": [
    "### Transforming the response variable too\n"
   ]
  },
  {
   "cell_type": "code",
   "execution_count": null,
   "id": "e817a6e6",
   "metadata": {},
   "outputs": [],
   "source": [
    "# Create qdrt_n_impressions and qdrt_n_clicks\n",
    "ad_conversion[\"qdrt_n_impressions\"] = ad_conversion[\"n_impressions\"] ** 0.25\n",
    "ad_conversion[\"qdrt_n_clicks\"] = ad_conversion[\"n_clicks\"] ** 0.25\n",
    "\n",
    "plt.figure(figsize=(15,10))\n",
    "# Plot using the transformed variables\n",
    "sns.regplot(x='qdrt_n_impressions', y='qdrt_n_clicks', data = ad_conversion)\n",
    "plt.show()"
   ]
  },
  {
   "cell_type": "code",
   "execution_count": null,
   "id": "9deda3a0",
   "metadata": {},
   "outputs": [],
   "source": [
    "# Run a linear regression of your transformed variables\n",
    "mdl_click_vs_impression = ols('qdrt_n_clicks ~ qdrt_n_impressions', ad_conversion).fit()\n",
    "mdl_click_vs_impression.params"
   ]
  },
  {
   "cell_type": "code",
   "execution_count": null,
   "id": "125a582e",
   "metadata": {},
   "outputs": [],
   "source": [
    "explanatory_data = pd.DataFrame({\"qdrt_n_impressions\": np.arange(0, 3e6+1, 5e5) ** .25,\n",
    "                                 \"n_impressions\": np.arange(0, 3e6+1, 5e5)})\n",
    "explanatory_data"
   ]
  },
  {
   "cell_type": "code",
   "execution_count": null,
   "id": "1b559d81",
   "metadata": {},
   "outputs": [],
   "source": [
    "# Complete prediction_data\n",
    "prediction_data = explanatory_data.assign(\n",
    "    qdrt_n_clicks = mdl_click_vs_impression.predict(explanatory_data)\n",
    ")\n",
    "\n",
    "# Print the result\n",
    "prediction_data"
   ]
  },
  {
   "cell_type": "code",
   "execution_count": null,
   "id": "7387e6af",
   "metadata": {},
   "outputs": [],
   "source": [
    "plt.figure(figsize=(15,10))\n",
    "# Plot using the transformed variables\n",
    "sns.regplot(x='qdrt_n_impressions', y='qdrt_n_clicks', data = ad_conversion)\n",
    "sns.scatterplot(x=\"qdrt_n_impressions\", y=\"qdrt_n_clicks\", data=prediction_data, color='red')\n",
    "plt.show()"
   ]
  },
  {
   "cell_type": "markdown",
   "id": "930073c5",
   "metadata": {},
   "source": [
    "### Back transformation\n"
   ]
  },
  {
   "cell_type": "code",
   "execution_count": null,
   "id": "600d929a",
   "metadata": {},
   "outputs": [],
   "source": [
    "# Back transform qdrt_n_clicks\n",
    "prediction_data[\"n_clicks\"] = prediction_data[\"qdrt_n_clicks\"] ** 4\n",
    "prediction_data"
   ]
  },
  {
   "cell_type": "code",
   "execution_count": null,
   "id": "ad3a628d",
   "metadata": {},
   "outputs": [],
   "source": [
    "# Plot the transformed variables\n",
    "plt.figure(figsize=(15,10))\n",
    "sns.regplot(x=\"n_impressions\", y=\"n_clicks\", data=ad_conversion, ci=None)\n",
    "\n",
    "# Add a layer of your prediction points\n",
    "sns.scatterplot(x='n_impressions', y=\"n_clicks\", data=prediction_data, color='red')\n",
    "plt.show()"
   ]
  },
  {
   "cell_type": "markdown",
   "id": "86c8674b",
   "metadata": {},
   "source": [
    "# 3. Assessing model fit\n",
    "\n",
    "## Quantifying model fit\n",
    "\n",
    "#### Coefficient of determination\n",
    "\n",
    "\"r-squared\": For simple linear regression.\n",
    "\"R-squared\": More than one explanatory variable.\n",
    "\n",
    "> 1 Score: Perfect fit!\n",
    "\n",
    "> 0 Score: Worst possible fit!\n",
    "\n",
    "A score of 0.5 in a psychological experiment may be exceptionally high beacuse humans are inherently hard to predict. In other cases, a score of 0.9 may be considered a poor fit.\n"
   ]
  },
  {
   "cell_type": "code",
   "execution_count": null,
   "id": "74a8540a",
   "metadata": {
    "scrolled": false
   },
   "outputs": [],
   "source": [
    "mdl_bream = ols(\"mass_g ~ length_cm\", data=bream).fit()\n",
    "mdl_bream.summary()"
   ]
  },
  {
   "cell_type": "markdown",
   "id": "de250754",
   "metadata": {},
   "source": [
    "> We also can get \"R-squared\" with the attribute .rsquared."
   ]
  },
  {
   "cell_type": "code",
   "execution_count": null,
   "id": "695104fc",
   "metadata": {},
   "outputs": [],
   "source": [
    "mdl_bream.rsquared"
   ]
  },
  {
   "cell_type": "markdown",
   "id": "efbaa8c9",
   "metadata": {},
   "source": [
    "> It is just the correlation squared"
   ]
  },
  {
   "cell_type": "code",
   "execution_count": null,
   "id": "990f62dd",
   "metadata": {},
   "outputs": [],
   "source": [
    "cieff_determination = bream['length_cm'].corr(bream['mass_g']) ** 2\n",
    "cieff_determination"
   ]
  },
  {
   "cell_type": "markdown",
   "id": "acde5129",
   "metadata": {},
   "source": [
    "#### Residual standard srror (RSE)\n",
    "\n",
    "> MSE (Mean squared error) = RSE ^ 2"
   ]
  },
  {
   "cell_type": "code",
   "execution_count": null,
   "id": "9664df91",
   "metadata": {},
   "outputs": [],
   "source": [
    "mse = mdl_bream.mse_resid\n",
    "mse"
   ]
  },
  {
   "cell_type": "code",
   "execution_count": null,
   "id": "bfa6a729",
   "metadata": {},
   "outputs": [],
   "source": [
    "rse = np.sqrt(mse)\n",
    "rse"
   ]
  },
  {
   "cell_type": "markdown",
   "id": "a625fa54",
   "metadata": {},
   "source": [
    "##### Calculating the RSE manually"
   ]
  },
  {
   "cell_type": "code",
   "execution_count": null,
   "id": "a5b4b21f",
   "metadata": {},
   "outputs": [],
   "source": [
    "residuals_sq = mdl_bream.resid ** 2\n",
    "\n",
    "resid_sum_of_sq = sum(residuals_sq)\n",
    "resid_sum_of_sq"
   ]
  },
  {
   "cell_type": "code",
   "execution_count": null,
   "id": "4f305049",
   "metadata": {},
   "outputs": [],
   "source": [
    "deg_freedom = len(bream.index) - 2\n",
    "deg_freedom"
   ]
  },
  {
   "cell_type": "code",
   "execution_count": null,
   "id": "a2ed1675",
   "metadata": {},
   "outputs": [],
   "source": [
    "rse = np.sqrt(resid_sum_of_sq / deg_freedom)\n",
    "rse"
   ]
  },
  {
   "cell_type": "markdown",
   "id": "a4316bfb",
   "metadata": {},
   "source": [
    "##### RSE: The difference between predicted bream masses and observed bream masses is typically about 74g.\n",
    "\n",
    "#### Root Mean Square Error (RMSE)"
   ]
  },
  {
   "cell_type": "code",
   "execution_count": null,
   "id": "379040ed",
   "metadata": {},
   "outputs": [],
   "source": [
    "residuals_sq = mdl_bream.resid ** 2\n",
    "\n",
    "resid_sum_of_sq = sum(residuals_sq)\n",
    "\n",
    "n_obs = len(bream.index) \n",
    "\n",
    "rmse = np.sqrt(resid_sum_of_sq / n_obs)\n",
    "rmse"
   ]
  },
  {
   "cell_type": "markdown",
   "id": "cbc5d454",
   "metadata": {},
   "source": [
    "### Coefficient of determination\n"
   ]
  },
  {
   "cell_type": "code",
   "execution_count": null,
   "id": "d6d9da8e",
   "metadata": {},
   "outputs": [],
   "source": [
    "mdl_click_vs_impression_orig = ols('n_clicks ~ n_impressions', ad_conversion).fit()\n",
    "mdl_click_vs_impression_orig.params"
   ]
  },
  {
   "cell_type": "code",
   "execution_count": null,
   "id": "abec68ec",
   "metadata": {},
   "outputs": [],
   "source": [
    "mdl_click_vs_impression_trans = ols('qdrt_n_clicks ~ qdrt_n_impressions', ad_conversion).fit()\n",
    "mdl_click_vs_impression_trans.params"
   ]
  },
  {
   "cell_type": "code",
   "execution_count": null,
   "id": "850474c6",
   "metadata": {},
   "outputs": [],
   "source": [
    "# Print a summary of mdl_click_vs_impression_orig\n",
    "print(mdl_click_vs_impression_orig.summary())"
   ]
  },
  {
   "cell_type": "code",
   "execution_count": null,
   "id": "0e7a3ae7",
   "metadata": {},
   "outputs": [],
   "source": [
    "# Print a summary of mdl_click_vs_impression_trans\n",
    "print(mdl_click_vs_impression_trans.summary())"
   ]
  },
  {
   "cell_type": "code",
   "execution_count": null,
   "id": "04839e5f",
   "metadata": {},
   "outputs": [],
   "source": [
    "# Print the coeff of determination for mdl_click_vs_impression_orig\n",
    "print(mdl_click_vs_impression_orig.rsquared)\n",
    "\n",
    "# Print the coeff of determination for mdl_click_vs_impression_trans\n",
    "print(mdl_click_vs_impression_trans.rsquared)"
   ]
  },
  {
   "cell_type": "markdown",
   "id": "1dee5190",
   "metadata": {},
   "source": [
    "> Original: The number of impressions explains 89% of the variability in the number of clicks.\n",
    "\n",
    "> Transformed: The number of impressions explains 94% of the variability in the number of clicks."
   ]
  },
  {
   "cell_type": "markdown",
   "id": "082de034",
   "metadata": {},
   "source": [
    "##### The transformed model, mdl_click_vs_impression_trans, gives a better fit.\n",
    "\n",
    "> The transformed model has a higher coefficient of determination than the original model, suggesting that it gives a better fit to the data."
   ]
  },
  {
   "cell_type": "markdown",
   "id": "40f04da2",
   "metadata": {},
   "source": [
    "### Residual standard error\n"
   ]
  },
  {
   "cell_type": "code",
   "execution_count": null,
   "id": "8875e040",
   "metadata": {},
   "outputs": [],
   "source": [
    "# Calculate mse_orig for mdl_click_vs_impression_orig\n",
    "mse_orig = mdl_click_vs_impression_orig.mse_resid\n",
    "\n",
    "# Calculate rse_orig for mdl_click_vs_impression_orig and print it\n",
    "rse_orig = np.sqrt(mse_orig)\n",
    "print(\"RSE of original model: \", rse_orig)\n",
    "\n",
    "# Calculate mse_trans for mdl_click_vs_impression_trans\n",
    "mse_trans = mdl_click_vs_impression_trans.mse_resid\n",
    "\n",
    "# Calculate rse_trans for mdl_click_vs_impression_trans and print it\n",
    "rse_trans = np.sqrt(mse_trans)\n",
    "print(\"RSE of transformed model: \", rse_trans)"
   ]
  },
  {
   "cell_type": "markdown",
   "id": "9a30a5b8",
   "metadata": {},
   "source": [
    "> Original: The typical difference between observed number of clicks and predicted number of clicks is 20.\n",
    "\n",
    "> Transformed: The typical difference between observed number of clicks and predicted number of clicks is 0.20."
   ]
  },
  {
   "cell_type": "markdown",
   "id": "05149894",
   "metadata": {},
   "source": [
    "##### Which model does the RSE suggest gives more accurate predictions?\n",
    "\n",
    "> The transformed model, mdl_click_vs_impression_trans.\n",
    "\n",
    "> RSE is a measure of accuracy for regression models. It even works on other other statistical model types like regression trees, so you can compare accuracy across different classes of models."
   ]
  },
  {
   "cell_type": "markdown",
   "id": "54d50e1c",
   "metadata": {},
   "source": [
    "## Visualizing model fit\n",
    "\n",
    "### Residuals properties of a good fit\n",
    "\n",
    "##### 1. Residuals are normally distributed.\n",
    "\n",
    "##### 2. The mean of the residuals is zero."
   ]
  },
  {
   "cell_type": "code",
   "execution_count": null,
   "id": "5a4042b1",
   "metadata": {
    "scrolled": true
   },
   "outputs": [],
   "source": [
    "sns.residplot(x='length_cm', y='mass_g', data=bream, lowess=True)\n",
    "plt.xlabel('Fitted valued')\n",
    "plt.ylabel('Residuals')\n",
    "plt.show()"
   ]
  },
  {
   "cell_type": "code",
   "execution_count": null,
   "id": "069a6e3f",
   "metadata": {},
   "outputs": [],
   "source": [
    "sns.residplot(x='length_cm', y='mass_g', data=perch, lowess=True)\n",
    "plt.xlabel('Fitted valued')\n",
    "plt.ylabel('Residuals')\n",
    "plt.show()"
   ]
  },
  {
   "cell_type": "code",
   "execution_count": null,
   "id": "365bf4be",
   "metadata": {},
   "outputs": [],
   "source": [
    "from statsmodels.api import qqplot\n",
    "\n",
    "qqplot(data=mdl_bream.resid, fit=True, line='45')"
   ]
  },
  {
   "cell_type": "code",
   "execution_count": null,
   "id": "25bd5817",
   "metadata": {},
   "outputs": [],
   "source": [
    "qqplot(data=mdl_perch.resid, fit=True, line='45')"
   ]
  },
  {
   "cell_type": "code",
   "execution_count": null,
   "id": "7f7c9d61",
   "metadata": {},
   "outputs": [],
   "source": [
    "model_norm_residuals_bream = mdl_bream.get_influence().resid_studentized_internal\n",
    "model_norm_residuals_abs_sqrt_bream = np.sqrt(np.abs(model_norm_residuals_bream))\n",
    "\n",
    "sns.regplot(x=mdl_bream.fittedvalues, y=model_norm_residuals_abs_sqrt_bream, ci=None, lowess=True)\n",
    "plt.xlabel('Fitted valued')\n",
    "plt.ylabel('Sqrt of abs values of stdized residuals')\n",
    "plt.show()"
   ]
  },
  {
   "cell_type": "code",
   "execution_count": null,
   "id": "fb79fead",
   "metadata": {},
   "outputs": [],
   "source": [
    "model_norm_residuals_perch = mdl_perch.get_influence().resid_studentized_internal\n",
    "model_norm_residuals_abs_sqrt_perch = np.sqrt(np.abs(model_norm_residuals_perch))\n",
    "\n",
    "sns.regplot(x=mdl_perch.fittedvalues, y=model_norm_residuals_abs_sqrt_perch, ci=None, lowess=True)\n",
    "plt.xlabel('Fitted valued')\n",
    "plt.ylabel('Sqrt of abs values of stdized residuals')\n",
    "plt.show()"
   ]
  },
  {
   "cell_type": "markdown",
   "id": "03ff0940",
   "metadata": {},
   "source": [
    "### Drawing diagnostic plots"
   ]
  },
  {
   "cell_type": "code",
   "execution_count": null,
   "id": "a137b195",
   "metadata": {
    "scrolled": true
   },
   "outputs": [],
   "source": [
    "# Plot the residuals vs. fitted values\n",
    "sns.residplot(x='n_convenience', y='price_twd_msq', data=taiwan_real_estate, lowess=True)\n",
    "plt.xlabel(\"Fitted values\")\n",
    "plt.ylabel(\"Residuals\")\n",
    "\n",
    "# Show the plot\n",
    "plt.show()"
   ]
  },
  {
   "cell_type": "markdown",
   "id": "8cef9e63",
   "metadata": {},
   "source": [
    "> The residuals track the y = 0 line more closely in the original model compared to the transformed model, indicating that the original model is a better fit for the data."
   ]
  },
  {
   "cell_type": "code",
   "execution_count": null,
   "id": "fb54d455",
   "metadata": {
    "scrolled": true
   },
   "outputs": [],
   "source": [
    "# Import qqplot\n",
    "from statsmodels.api import qqplot\n",
    "\n",
    "# Create the Q-Q plot of the residuals\n",
    "qqplot(data=mdl_price_vs_conv.resid, fit=True, line=\"45\")\n",
    "\n",
    "# Show the plot\n",
    "plt.show()"
   ]
  },
  {
   "cell_type": "markdown",
   "id": "940ef463",
   "metadata": {},
   "source": [
    "> The residuals track the \"normality\" line more closely in the original model compared to the transformed model, indicating that the original model is a better fit for the data."
   ]
  },
  {
   "cell_type": "code",
   "execution_count": null,
   "id": "b4365c38",
   "metadata": {
    "scrolled": true
   },
   "outputs": [],
   "source": [
    "# Preprocessing steps\n",
    "model_norm_residuals = mdl_price_vs_conv.get_influence().resid_studentized_internal\n",
    "model_norm_residuals_abs_sqrt = np.sqrt(np.abs(model_norm_residuals))\n",
    "\n",
    "# Create the scale-location plot\n",
    "sns.regplot(x=mdl_price_vs_conv.fittedvalues, y=model_norm_residuals_abs_sqrt, ci=None, lowess=True)\n",
    "plt.xlabel(\"Fitted values\")\n",
    "plt.ylabel(\"Sqrt of abs val of stdized residuals\")\n",
    "\n",
    "# Show the plot\n",
    "plt.show()"
   ]
  },
  {
   "cell_type": "markdown",
   "id": "4f84cc41",
   "metadata": {},
   "source": [
    "> The size of the standardized residuals is more consistent in the original model compared to the transformed model, indicating that the original model is a better fit for the data."
   ]
  },
  {
   "cell_type": "markdown",
   "id": "ad563445",
   "metadata": {},
   "source": [
    "## Outliers, leverage, and influence\n"
   ]
  },
  {
   "cell_type": "code",
   "execution_count": null,
   "id": "a1353fff",
   "metadata": {},
   "outputs": [],
   "source": [
    "roach = fish[fish['species'] == 'Roach']\n",
    "roach.head()"
   ]
  },
  {
   "cell_type": "code",
   "execution_count": null,
   "id": "78445a17",
   "metadata": {},
   "outputs": [],
   "source": []
  },
  {
   "cell_type": "code",
   "execution_count": null,
   "id": "ceeff447",
   "metadata": {},
   "outputs": [],
   "source": []
  },
  {
   "cell_type": "code",
   "execution_count": null,
   "id": "061aa0e8",
   "metadata": {},
   "outputs": [],
   "source": []
  },
  {
   "cell_type": "code",
   "execution_count": null,
   "id": "6c1cc14a",
   "metadata": {},
   "outputs": [],
   "source": []
  },
  {
   "cell_type": "code",
   "execution_count": null,
   "id": "6ae64b8b",
   "metadata": {},
   "outputs": [],
   "source": []
  },
  {
   "cell_type": "code",
   "execution_count": null,
   "id": "1073d836",
   "metadata": {},
   "outputs": [],
   "source": []
  },
  {
   "cell_type": "code",
   "execution_count": null,
   "id": "3ba6ba2a",
   "metadata": {},
   "outputs": [],
   "source": []
  },
  {
   "cell_type": "code",
   "execution_count": null,
   "id": "10e401ee",
   "metadata": {},
   "outputs": [],
   "source": []
  },
  {
   "cell_type": "code",
   "execution_count": null,
   "id": "768a7044",
   "metadata": {},
   "outputs": [],
   "source": []
  },
  {
   "cell_type": "code",
   "execution_count": null,
   "id": "b76d0992",
   "metadata": {},
   "outputs": [],
   "source": []
  },
  {
   "cell_type": "code",
   "execution_count": null,
   "id": "59d4fc84",
   "metadata": {},
   "outputs": [],
   "source": []
  },
  {
   "cell_type": "code",
   "execution_count": null,
   "id": "6759ae8c",
   "metadata": {},
   "outputs": [],
   "source": []
  },
  {
   "cell_type": "code",
   "execution_count": null,
   "id": "bffa4bf7",
   "metadata": {},
   "outputs": [],
   "source": []
  },
  {
   "cell_type": "code",
   "execution_count": null,
   "id": "ed5743f0",
   "metadata": {},
   "outputs": [],
   "source": []
  },
  {
   "cell_type": "code",
   "execution_count": null,
   "id": "5e8fac66",
   "metadata": {},
   "outputs": [],
   "source": []
  },
  {
   "cell_type": "code",
   "execution_count": null,
   "id": "8ce33de9",
   "metadata": {},
   "outputs": [],
   "source": []
  },
  {
   "cell_type": "code",
   "execution_count": null,
   "id": "b3a2dbb4",
   "metadata": {},
   "outputs": [],
   "source": []
  },
  {
   "cell_type": "code",
   "execution_count": null,
   "id": "2e3c3c9f",
   "metadata": {},
   "outputs": [],
   "source": []
  },
  {
   "cell_type": "code",
   "execution_count": null,
   "id": "ae509a40",
   "metadata": {},
   "outputs": [],
   "source": []
  },
  {
   "cell_type": "code",
   "execution_count": null,
   "id": "8a182554",
   "metadata": {},
   "outputs": [],
   "source": []
  },
  {
   "cell_type": "code",
   "execution_count": null,
   "id": "965e4b36",
   "metadata": {},
   "outputs": [],
   "source": []
  },
  {
   "cell_type": "code",
   "execution_count": null,
   "id": "7d28e12d",
   "metadata": {},
   "outputs": [],
   "source": []
  },
  {
   "cell_type": "code",
   "execution_count": null,
   "id": "ea58fac6",
   "metadata": {},
   "outputs": [],
   "source": []
  }
 ],
 "metadata": {
  "kernelspec": {
   "display_name": "Python 3 (ipykernel)",
   "language": "python",
   "name": "python3"
  },
  "language_info": {
   "codemirror_mode": {
    "name": "ipython",
    "version": 3
   },
   "file_extension": ".py",
   "mimetype": "text/x-python",
   "name": "python",
   "nbconvert_exporter": "python",
   "pygments_lexer": "ipython3",
   "version": "3.9.7"
  }
 },
 "nbformat": 4,
 "nbformat_minor": 5
}
